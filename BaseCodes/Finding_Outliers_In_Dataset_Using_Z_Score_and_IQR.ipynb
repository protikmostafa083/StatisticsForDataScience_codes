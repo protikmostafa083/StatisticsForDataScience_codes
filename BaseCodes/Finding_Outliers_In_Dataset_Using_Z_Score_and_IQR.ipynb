{
  "nbformat": 4,
  "nbformat_minor": 0,
  "metadata": {
    "colab": {
      "name": "Finding Outliers In Dataset Using Z- Score and IQR.ipynb",
      "provenance": []
    },
    "kernelspec": {
      "name": "python3",
      "display_name": "Python 3"
    },
    "language_info": {
      "name": "python"
    }
  },
  "cells": [
    {
      "cell_type": "markdown",
      "metadata": {
        "id": "PQ793AWiBTxV"
      },
      "source": [
        "# Outliers\n",
        "an outlier is a data point in a dataset that is distant from all other observations. A data point lies outside the overall distribution of the dataset. \n",
        "\n",
        "As for example, Suppose we have a 2D graph of height and Weight. This two attribute is actually positively correlated to each other. We can say this from the domain knowledge. Now, If it so happens that for a smaller value of weight the height is extremely high. This is then an outlier. These data points are very very rare. Wheather this outliers are useful for us or not, we also determine this from the type of data and case that we are dealing with. Like, in credit card fraud detection, these outliers can be useful. when it comes to height and weight, it is not useful at all rather it is going to put a question on the credibility of the data."
      ]
    },
    {
      "cell_type": "markdown",
      "metadata": {
        "id": "COpciFcaDKha"
      },
      "source": [
        "### Import Libraries"
      ]
    },
    {
      "cell_type": "code",
      "metadata": {
        "id": "c1DPZPHTDAe-"
      },
      "source": [
        "import numpy as np\n",
        "import matplotlib.pyplot as plt"
      ],
      "execution_count": 48,
      "outputs": []
    },
    {
      "cell_type": "markdown",
      "metadata": {
        "id": "jUZH6-4iDUVZ"
      },
      "source": [
        "# What are the criteria to identify outlier?\n",
        "\n",
        "\n",
        "*   **Z - Score**: Data point that lies outside of the third standard deviation are considered outliers.\n",
        "*   **IQR(InterQuartile Range)**: Data points that fall out of the range of 25 percentile to 75 percentile are considered outliers.\n",
        "\n",
        "\n",
        "# What are the reason for an outlier to exist in a dataset?\n",
        "\n",
        "\n",
        "*   Variablity in the data.\n",
        "*   An experiemental measurement error.\n",
        "\n",
        "\n",
        "# What are the impact of having outliers in a dataset?\n",
        "\n",
        "\n",
        "*   It interprets the data in a wrong way\n",
        "*   It puts a belied impact on data by changing the cental tendency of the data.\n",
        "\n",
        "\n",
        "# Ways to find the outlier\n",
        "\n",
        "\n",
        "*   Scatter Plot\n",
        "*   Box Plot\n",
        "*   Using Z-Score\n",
        "*   Using the IQR"
      ]
    },
    {
      "cell_type": "code",
      "metadata": {
        "id": "4Qjj_lRhLPpl"
      },
      "source": [
        "dataset = [11,10,12,14,12,15,14,13,15,102,12,14,17,19,107, 10,13,12,14,12,108,12,11,14,13,15,10,15,12,10,14,13,15,10]"
      ],
      "execution_count": 49,
      "outputs": []
    },
    {
      "cell_type": "markdown",
      "metadata": {
        "id": "6SpmfMkaLqM2"
      },
      "source": [
        "# Detecting Outliers using the Z-Score\n",
        "\n",
        "formula for Z- Score is,\n",
        "Z = x-miu/sigma\n",
        "\n",
        "x = data point\n",
        "miu = mean\n",
        "sigman = standard deviation"
      ]
    },
    {
      "cell_type": "code",
      "metadata": {
        "id": "tcGKBiS9MBpw"
      },
      "source": [
        "outliers = []\n",
        "def detect_outliers(data):\n",
        "    threshold = 3 # this is the standard deviation limit for both sides\n",
        "    mean = np.mean(data)\n",
        "    print(\"Mean: \"+ str(mean))\n",
        "    std = np.std(data)\n",
        "    print(\"Std: \" + str(std))\n",
        "\n",
        "    for i in data:\n",
        "        z_score = (i-mean)/std\n",
        "        if np.abs(z_score)>threshold:\n",
        "            outliers.append(i)\n",
        "    return outliers"
      ],
      "execution_count": 50,
      "outputs": []
    },
    {
      "cell_type": "code",
      "metadata": {
        "colab": {
          "base_uri": "https://localhost:8080/"
        },
        "id": "Nf493SeSM21W",
        "outputId": "e4a79e80-407e-4f7e-bd11-6251212b8857"
      },
      "source": [
        "outliers_pt = detect_outliers(dataset)"
      ],
      "execution_count": 51,
      "outputs": [
        {
          "output_type": "stream",
          "text": [
            "Mean: 21.176470588235293\n",
            "Std: 26.37230118696876\n"
          ],
          "name": "stdout"
        }
      ]
    },
    {
      "cell_type": "code",
      "metadata": {
        "colab": {
          "base_uri": "https://localhost:8080/"
        },
        "id": "JZ6oN8iIM99o",
        "outputId": "9fb18975-1251-478f-df8f-7f310049007f"
      },
      "source": [
        "outliers_pt"
      ],
      "execution_count": 52,
      "outputs": [
        {
          "output_type": "execute_result",
          "data": {
            "text/plain": [
              "[102, 107, 108]"
            ]
          },
          "metadata": {
            "tags": []
          },
          "execution_count": 52
        }
      ]
    },
    {
      "cell_type": "markdown",
      "metadata": {
        "id": "x7poAaczOrTo"
      },
      "source": [
        "# InterQuartile Range (IQR)\n",
        "\n",
        "data out of 75 and 25 percentile\n",
        "\n",
        "## Steps\n",
        "\n",
        "**1. sort in increasing order.**\n",
        "\n",
        "**2. We calculate the first quartile(Q1) and third quartile(Q3).**\n",
        "\n",
        "**3. find the InterQuartile Range which is Q3-Q1.**\n",
        "\n",
        "**4. Find the lower bound, q1 - q1*1.5**\n",
        "\n",
        "**5. Find the upper bound q3 - q3*1.5**\n"
      ]
    },
    {
      "cell_type": "code",
      "metadata": {
        "colab": {
          "base_uri": "https://localhost:8080/"
        },
        "id": "5H5NbTnZPg09",
        "outputId": "c6979a1f-c248-4cd3-9087-bb505f677fcb"
      },
      "source": [
        "#step 1\n",
        "#sort data\n",
        "dataset.sort()\n",
        "print(dataset)"
      ],
      "execution_count": 54,
      "outputs": [
        {
          "output_type": "stream",
          "text": [
            "[10, 10, 10, 10, 10, 11, 11, 12, 12, 12, 12, 12, 12, 12, 13, 13, 13, 13, 14, 14, 14, 14, 14, 14, 15, 15, 15, 15, 15, 17, 19, 102, 107, 108]\n"
          ],
          "name": "stdout"
        }
      ]
    },
    {
      "cell_type": "code",
      "metadata": {
        "id": "S4QMSa79P24b"
      },
      "source": [
        "quartile1, quartile3 = np.percentile(dataset,[25,75])"
      ],
      "execution_count": 55,
      "outputs": []
    },
    {
      "cell_type": "code",
      "metadata": {
        "colab": {
          "base_uri": "https://localhost:8080/"
        },
        "id": "YmFIOpGXQCNu",
        "outputId": "2ca115e6-021e-4da8-9117-94eb9e6c5f3c"
      },
      "source": [
        "print(quartile1, quartile3)"
      ],
      "execution_count": 56,
      "outputs": [
        {
          "output_type": "stream",
          "text": [
            "12.0 15.0\n"
          ],
          "name": "stdout"
        }
      ]
    },
    {
      "cell_type": "code",
      "metadata": {
        "colab": {
          "base_uri": "https://localhost:8080/"
        },
        "id": "lyfk3eK6QNfO",
        "outputId": "a5cc7a20-3d9e-4704-8d8e-dba90452ff50"
      },
      "source": [
        "iqr_value = quartile3 - quartile1\n",
        "print(iqr_value)"
      ],
      "execution_count": 57,
      "outputs": [
        {
          "output_type": "stream",
          "text": [
            "3.0\n"
          ],
          "name": "stdout"
        }
      ]
    },
    {
      "cell_type": "code",
      "metadata": {
        "id": "4ujNdB3DQj72"
      },
      "source": [
        "lower_bound_value = quartile1 - (1.5 * iqr_value)\n",
        "upper_bound_value = quartile3 + (1.5 * iqr_value)"
      ],
      "execution_count": 60,
      "outputs": []
    },
    {
      "cell_type": "code",
      "metadata": {
        "colab": {
          "base_uri": "https://localhost:8080/"
        },
        "id": "1SI8lixCQ0xF",
        "outputId": "120ffc24-6b33-493d-8822-26a7e8d1b754"
      },
      "source": [
        "print(lower_bound_value, upper_bound_value)"
      ],
      "execution_count": 61,
      "outputs": [
        {
          "output_type": "stream",
          "text": [
            "7.5 19.5\n"
          ],
          "name": "stdout"
        }
      ]
    },
    {
      "cell_type": "code",
      "metadata": {
        "id": "VFsNXpZARPl9"
      },
      "source": [
        "outliers2 = []\n",
        "def detectOutliersIQR(data):\n",
        "    for i in data:\n",
        "        if i <lower_bound_value or i>upper_bound_value:\n",
        "            outliers2.append(i)\n",
        "    return outliers2"
      ],
      "execution_count": 64,
      "outputs": []
    },
    {
      "cell_type": "code",
      "metadata": {
        "id": "-YlsmTx2RXQm"
      },
      "source": [
        "outliersIQR = detectOutliersIQR(dataset)"
      ],
      "execution_count": 65,
      "outputs": []
    },
    {
      "cell_type": "code",
      "metadata": {
        "colab": {
          "base_uri": "https://localhost:8080/"
        },
        "id": "HjS63jBeRx9S",
        "outputId": "79d79483-c7f1-4410-f186-2bee67bdc205"
      },
      "source": [
        "print(outliersIQR)"
      ],
      "execution_count": 66,
      "outputs": [
        {
          "output_type": "stream",
          "text": [
            "[102, 107, 108]\n"
          ],
          "name": "stdout"
        }
      ]
    }
  ]
}